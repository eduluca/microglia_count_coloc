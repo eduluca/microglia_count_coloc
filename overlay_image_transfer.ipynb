{
 "cells": [
  {
   "cell_type": "markdown",
   "id": "4d8d7795",
   "metadata": {},
   "source": [
    "# Program to move overlay images into folder"
   ]
  },
  {
   "cell_type": "code",
   "execution_count": 68,
   "id": "002e7478",
   "metadata": {},
   "outputs": [
    {
     "name": "stdout",
     "output_type": "stream",
     "text": [
      "C:\\Users\\edward.luca\\Desktop\\microglia_images_removefiles\\Microglia Images for Cell Counts\\SD 208A\\23300_20x_Sec10_L_02\\23300_20x_Sec10_L_Overlay.tif\n"
     ]
    },
    {
     "ename": "PermissionError",
     "evalue": "[WinError 32] The process cannot access the file because it is being used by another process: 'C:\\\\Users\\\\edward.luca\\\\Desktop\\\\microglia_images_removefiles\\\\Microglia Images for Cell Counts\\\\SD 208A\\\\23300_20x_Sec10_L_02\\\\23300_20x_Sec10_L_Overlay.tif'",
     "output_type": "error",
     "traceback": [
      "\u001b[1;31m---------------------------------------------------------------------------\u001b[0m",
      "\u001b[1;31mPermissionError\u001b[0m                           Traceback (most recent call last)",
      "File \u001b[1;32m~\\AppData\\Local\\anaconda3\\lib\\shutil.py:816\u001b[0m, in \u001b[0;36mmove\u001b[1;34m(src, dst, copy_function)\u001b[0m\n\u001b[0;32m    815\u001b[0m \u001b[38;5;28;01mtry\u001b[39;00m:\n\u001b[1;32m--> 816\u001b[0m     \u001b[43mos\u001b[49m\u001b[38;5;241;43m.\u001b[39;49m\u001b[43mrename\u001b[49m\u001b[43m(\u001b[49m\u001b[43msrc\u001b[49m\u001b[43m,\u001b[49m\u001b[43m \u001b[49m\u001b[43mreal_dst\u001b[49m\u001b[43m)\u001b[49m\n\u001b[0;32m    817\u001b[0m \u001b[38;5;28;01mexcept\u001b[39;00m \u001b[38;5;167;01mOSError\u001b[39;00m:\n",
      "\u001b[1;31mPermissionError\u001b[0m: [WinError 32] The process cannot access the file because it is being used by another process: 'C:\\\\Users\\\\edward.luca\\\\Desktop\\\\microglia_images_removefiles\\\\Microglia Images for Cell Counts\\\\SD 208A\\\\23300_20x_Sec10_L_02\\\\23300_20x_Sec10_L_Overlay.tif' -> 'C:\\\\Users\\\\edward.luca\\\\Desktop\\\\microglia_images_removefiles\\\\overlay_images_only\\\\23300_20x_Sec10_L_Overlay.tif'",
      "\nDuring handling of the above exception, another exception occurred:\n",
      "\u001b[1;31mPermissionError\u001b[0m                           Traceback (most recent call last)",
      "Cell \u001b[1;32mIn[68], line 33\u001b[0m\n\u001b[0;32m     31\u001b[0m \u001b[38;5;28;01mif\u001b[39;00m item_name\u001b[38;5;241m.\u001b[39mendswith(\u001b[38;5;124m\"\u001b[39m\u001b[38;5;124mOverlay.tif\u001b[39m\u001b[38;5;124m\"\u001b[39m):\n\u001b[0;32m     32\u001b[0m     \u001b[38;5;28mprint\u001b[39m(item_name)\n\u001b[1;32m---> 33\u001b[0m     \u001b[43mshutil\u001b[49m\u001b[38;5;241;43m.\u001b[39;49m\u001b[43mmove\u001b[49m\u001b[43m(\u001b[49m\u001b[43mitem_name\u001b[49m\u001b[43m,\u001b[49m\u001b[43moverlay\u001b[49m\u001b[43m)\u001b[49m\n\u001b[0;32m     34\u001b[0m     item_name\u001b[38;5;241m.\u001b[39mclose()\n",
      "File \u001b[1;32m~\\AppData\\Local\\anaconda3\\lib\\shutil.py:837\u001b[0m, in \u001b[0;36mmove\u001b[1;34m(src, dst, copy_function)\u001b[0m\n\u001b[0;32m    835\u001b[0m     \u001b[38;5;28;01melse\u001b[39;00m:\n\u001b[0;32m    836\u001b[0m         copy_function(src, real_dst)\n\u001b[1;32m--> 837\u001b[0m         \u001b[43mos\u001b[49m\u001b[38;5;241;43m.\u001b[39;49m\u001b[43munlink\u001b[49m\u001b[43m(\u001b[49m\u001b[43msrc\u001b[49m\u001b[43m)\u001b[49m\n\u001b[0;32m    838\u001b[0m \u001b[38;5;28;01mreturn\u001b[39;00m real_dst\n",
      "\u001b[1;31mPermissionError\u001b[0m: [WinError 32] The process cannot access the file because it is being used by another process: 'C:\\\\Users\\\\edward.luca\\\\Desktop\\\\microglia_images_removefiles\\\\Microglia Images for Cell Counts\\\\SD 208A\\\\23300_20x_Sec10_L_02\\\\23300_20x_Sec10_L_Overlay.tif'"
     ]
    }
   ],
   "source": [
    "import os\n",
    "from pathlib import Path\n",
    "from PIL import Image\n",
    "import PIL\n",
    "import matplotlib.pyplot as plt\n",
    "import shutil\n",
    "\n",
    "#Microglia Images Folder\n",
    "micro = r\"C:\\Users\\edward.luca\\Desktop\\microglia_images_removefiles\\Microglia Images for Cell Counts\"\n",
    "#Combined Overlay Flder\n",
    "overlay = r\"C:\\Users\\edward.luca\\Desktop\\microglia_images_removefiles\\overlay_images_only\"\n",
    "#SD 208A Overlay Images Folder\n",
    "sd_208A = r\"C:\\Users\\edward.luca\\Desktop\\microglia_images_removefiles\\overlay_images_only\\SD 208A_attempt\"\n",
    "#SD 3397 Overlay Images Folder\n",
    "sd_3397 = r\"C:\\Users\\edward.luca\\Desktop\\microglia_images_removefiles\\overlay_images_only\\SD 3397\"\n",
    "\n",
    "\n",
    "#iterate through SD 208A, then SD 3397\n",
    "for folder1 in os.listdir(micro):\n",
    "    f1name = os.path.join(micro, folder1)\n",
    "    \n",
    "    #iterate through the folders inside\n",
    "    for folder2 in os.listdir(f1name):\n",
    "        f2name = os.path.join(f1name, folder2)\n",
    "    \n",
    "        #iterate through folder's images\n",
    "        for item in os.listdir(f2name):  \n",
    "            item_name = os.path.join(f2name, item)\n",
    "            \n",
    "            #find Overlay image\n",
    "            if item_name.endswith(\"Overlay.tif\"):\n",
    "                print(item_name)\n",
    "                shutil.move(item_name,overlay)\n",
    "                item_name.close()\n",
    "               \n",
    "                \n",
    "                \n",
    "                \n",
    "                #picture = Image.open(item_name)\n",
    "                #item_name = os.path.join(f2name, item)\n",
    "                #change image location\n",
    "                #picture.save(overlay,'tiff')\n",
    "    "
   ]
  },
  {
   "cell_type": "code",
   "execution_count": null,
   "id": "995fe37d",
   "metadata": {},
   "outputs": [],
   "source": []
  },
  {
   "cell_type": "code",
   "execution_count": null,
   "id": "9077d469",
   "metadata": {},
   "outputs": [],
   "source": []
  }
 ],
 "metadata": {
  "kernelspec": {
   "display_name": "Python 3 (ipykernel)",
   "language": "python",
   "name": "python3"
  },
  "language_info": {
   "codemirror_mode": {
    "name": "ipython",
    "version": 3
   },
   "file_extension": ".py",
   "mimetype": "text/x-python",
   "name": "python",
   "nbconvert_exporter": "python",
   "pygments_lexer": "ipython3",
   "version": "3.10.9"
  }
 },
 "nbformat": 4,
 "nbformat_minor": 5
}
