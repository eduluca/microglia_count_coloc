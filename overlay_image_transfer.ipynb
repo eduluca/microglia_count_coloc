{
 "cells": [
  {
   "cell_type": "markdown",
   "id": "b783423a",
   "metadata": {},
   "source": [
    "# Program to move overlay images into folder"
   ]
  },
  {
   "cell_type": "code",
   "execution_count": 44,
   "id": "8816ebd8",
   "metadata": {},
   "outputs": [
    {
     "name": "stdout",
     "output_type": "stream",
     "text": [
      "C:\\Users\\edward.luca\\Desktop\\microglia_images_removefiles\\Microglia Images for Cell Counts\\SD 208A\\23300_20x_Sec10_L_02\\23300_20x_Sec10_L_Overlay.tif\n"
     ]
    },
    {
     "ename": "PermissionError",
     "evalue": "[Errno 13] Permission denied: 'C:\\\\Users\\\\edward.luca\\\\Desktop\\\\microglia_images_removefiles\\\\overlay_images_only'",
     "output_type": "error",
     "traceback": [
      "\u001b[1;31m---------------------------------------------------------------------------\u001b[0m",
      "\u001b[1;31mPermissionError\u001b[0m                           Traceback (most recent call last)",
      "Cell \u001b[1;32mIn[44], line 35\u001b[0m\n\u001b[0;32m     32\u001b[0m picture \u001b[38;5;241m=\u001b[39m Image\u001b[38;5;241m.\u001b[39mopen(item_name)\n\u001b[0;32m     33\u001b[0m \u001b[38;5;66;03m#item_name = os.path.join(f2name, item)\u001b[39;00m\n\u001b[0;32m     34\u001b[0m \u001b[38;5;66;03m#change image location\u001b[39;00m\n\u001b[1;32m---> 35\u001b[0m \u001b[43mpicture\u001b[49m\u001b[38;5;241;43m.\u001b[39;49m\u001b[43msave\u001b[49m\u001b[43m(\u001b[49m\u001b[43moverlay\u001b[49m\u001b[43m,\u001b[49m\u001b[38;5;124;43m'\u001b[39;49m\u001b[38;5;124;43mtiff\u001b[39;49m\u001b[38;5;124;43m'\u001b[39;49m\u001b[43m)\u001b[49m\n\u001b[0;32m     36\u001b[0m \u001b[38;5;124;03m'''\u001b[39;00m\n\u001b[0;32m     37\u001b[0m \u001b[38;5;124;03mif item_name.__contains__(\"SD 208A\"):\u001b[39;00m\n\u001b[0;32m     38\u001b[0m \u001b[38;5;124;03m    item_name = sd_208A\u001b[39;00m\n\u001b[0;32m     39\u001b[0m \u001b[38;5;124;03melif item_name.__contains__(\"SD 3397\"):\u001b[39;00m\n\u001b[0;32m     40\u001b[0m \u001b[38;5;124;03m    item_name = sd_3397  \u001b[39;00m\n\u001b[0;32m     41\u001b[0m \u001b[38;5;124;03m'''\u001b[39;00m\n",
      "File \u001b[1;32m~\\AppData\\Local\\anaconda3\\lib\\site-packages\\PIL\\Image.py:2428\u001b[0m, in \u001b[0;36mImage.save\u001b[1;34m(self, fp, format, **params)\u001b[0m\n\u001b[0;32m   2426\u001b[0m         fp \u001b[38;5;241m=\u001b[39m builtins\u001b[38;5;241m.\u001b[39mopen(filename, \u001b[38;5;124m\"\u001b[39m\u001b[38;5;124mr+b\u001b[39m\u001b[38;5;124m\"\u001b[39m)\n\u001b[0;32m   2427\u001b[0m     \u001b[38;5;28;01melse\u001b[39;00m:\n\u001b[1;32m-> 2428\u001b[0m         fp \u001b[38;5;241m=\u001b[39m \u001b[43mbuiltins\u001b[49m\u001b[38;5;241;43m.\u001b[39;49m\u001b[43mopen\u001b[49m\u001b[43m(\u001b[49m\u001b[43mfilename\u001b[49m\u001b[43m,\u001b[49m\u001b[43m \u001b[49m\u001b[38;5;124;43m\"\u001b[39;49m\u001b[38;5;124;43mw+b\u001b[39;49m\u001b[38;5;124;43m\"\u001b[39;49m\u001b[43m)\u001b[49m\n\u001b[0;32m   2430\u001b[0m \u001b[38;5;28;01mtry\u001b[39;00m:\n\u001b[0;32m   2431\u001b[0m     save_handler(\u001b[38;5;28mself\u001b[39m, fp, filename)\n",
      "\u001b[1;31mPermissionError\u001b[0m: [Errno 13] Permission denied: 'C:\\\\Users\\\\edward.luca\\\\Desktop\\\\microglia_images_removefiles\\\\overlay_images_only'"
     ]
    }
   ],
   "source": [
    "import os\n",
    "from pathlib import Path\n",
    "from PIL import Image\n",
    "import PIL\n",
    "import matplotlib.pyplot \n",
    "\n",
    "#Microglia Images Folder\n",
    "micro = r\"C:\\Users\\edward.luca\\Desktop\\microglia_images_removefiles\\Microglia Images for Cell Counts\"\n",
    "#Combined Overlay Flder\n",
    "overlay = r\"C:\\Users\\edward.luca\\Desktop\\microglia_images_removefiles\\overlay_images_only\"\n",
    "#SD 208A Overlay Images Folder\n",
    "sd_208A = r\"C:\\Users\\edward.luca\\Desktop\\microglia_images_removefiles\\overlay_images_only\\SD 208A\"\n",
    "#SD 3397 Overlay Images Folder\n",
    "sd_3397 = r\"C:\\Users\\edward.luca\\Desktop\\microglia_images_removefiles\\overlay_images_only\\SD 3397\"\n",
    "\n",
    "\n",
    "#iterate through SD 208A, then SD 3397\n",
    "for folder1 in os.listdir(micro):\n",
    "    f1name = os.path.join(micro, folder1)\n",
    "    \n",
    "    #iterate through the folders inside\n",
    "    for folder2 in os.listdir(f1name):\n",
    "        f2name = os.path.join(f1name, folder2)\n",
    "    \n",
    "        #iterate through folder's images\n",
    "        for item in os.listdir(f2name):  \n",
    "            item_name = os.path.join(f2name, item)\n",
    "            \n",
    "            #find Overlay image\n",
    "            if item_name.endswith(\"Overlay.tif\"):\n",
    "                print(item_name)\n",
    "                \n",
    "                picture = Image.open(item_name)\n",
    "                #item_name = os.path.join(f2name, item)\n",
    "                #change image location\n",
    "                picture.save(overlay,'tiff')\n",
    "                '''\n",
    "                if item_name.__contains__(\"SD 208A\"):\n",
    "                    item_name = sd_208A\n",
    "                elif item_name.__contains__(\"SD 3397\"):\n",
    "                    item_name = sd_3397  \n",
    "                '''\n",
    "    "
   ]
  },
  {
   "cell_type": "code",
   "execution_count": null,
   "id": "05e71bab",
   "metadata": {},
   "outputs": [],
   "source": []
  }
 ],
 "metadata": {
  "kernelspec": {
   "display_name": "Python 3 (ipykernel)",
   "language": "python",
   "name": "python3"
  },
  "language_info": {
   "codemirror_mode": {
    "name": "ipython",
    "version": 3
   },
   "file_extension": ".py",
   "mimetype": "text/x-python",
   "name": "python",
   "nbconvert_exporter": "python",
   "pygments_lexer": "ipython3",
   "version": "3.10.9"
  }
 },
 "nbformat": 4,
 "nbformat_minor": 5
}
